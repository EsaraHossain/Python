{
 "cells": [
  {
   "cell_type": "raw",
   "id": "0de29e4c-f427-4a12-8009-56b6cfee8288",
   "metadata": {},
   "source": [
    "Assignment:Python\n",
    "\n",
    "Q1. Explain the key feature of python that makes it a popular\n",
    "choice.\n",
    "Ans: -The Key feature of python that makes it a popular choice are\n",
    "listed below: -\n",
    "1.Widely used in data industry.\n",
    "2. Python has a lot of libraries like NumPy, pandas etc.\n",
    "3. It is used in frontend, backend and data analysis.\n",
    "4. It has automation and image processing.\n",
    "5. It has databases."
   ]
  },
  {
   "cell_type": "raw",
   "id": "2ef4f54c-f7a2-40c0-8f39-219d99843502",
   "metadata": {},
   "source": [
    "Q2. Describe the role of predefined keywords in Python and\n",
    "provide examples of how they are used in a program.\n",
    "Ans: -Python has a set of keywords that are reserved words that\n",
    "cannot be used as variable names, function names, or any other\n",
    "identifiers. Example: Print is the keyword in python which is used\n",
    "to print any message and this variable cannot be used for any\n",
    "other purpose.\n"
   ]
  },
  {
   "cell_type": "raw",
   "id": "aa12df16-391e-4aef-ba56-9480a39159f8",
   "metadata": {},
   "source": [
    "Q3. Compare and contrast mutable and immutable objects in\n",
    "Python with examples.\n",
    "\n",
    "Ans: -Mutable objects are the objects whose value or state can be\n",
    "changed after they are created, the example is list, whereas\n",
    "immutable objects are those which cannot be changed after they\n",
    "are created, the example is tuple.\n"
   ]
  },
  {
   "cell_type": "raw",
   "id": "f09386d6-a41c-4800-9eae-c2378e2f07fb",
   "metadata": {},
   "source": [
    "Q4. Discuss the different types of operators in Python and\n",
    "provide examples of how they are used.\n",
    "Ans:- \n",
    "1.Arithmetic Operator: +, -, *, /, %, **\n",
    "2.Floor Operator: is used to give the nearest low value (//)\n",
    "3.Comparison Operators: used to compare two values and\n",
    "return Boolean.\n",
    "4.Logical Operators: Used when we logically defined\n",
    "something.\n",
    "5.Not Operator: print the opposite.\n",
    "6.Assignment operators: when we assign a value to a variable.\n",
    "7.Membership Operators: used to see any member present or not in a string.\n",
    "8.Bitwise Operator: performs operations at bit level.\n",
    "9.Identity Operators: compares the location of two objects or variable"
   ]
  },
  {
   "cell_type": "code",
   "execution_count": 1,
   "id": "2c7eedfc-1b51-4b24-a10d-401ee1da61fc",
   "metadata": {},
   "outputs": [
    {
     "data": {
      "text/plain": [
       "1.3333333333333333"
      ]
     },
     "execution_count": 1,
     "metadata": {},
     "output_type": "execute_result"
    }
   ],
   "source": [
    "4/3    #example of assignment operator"
   ]
  },
  {
   "cell_type": "code",
   "execution_count": 2,
   "id": "de0ac985-29b9-48ad-819c-0f65a2cd1d9e",
   "metadata": {},
   "outputs": [
    {
     "data": {
      "text/plain": [
       "1"
      ]
     },
     "execution_count": 2,
     "metadata": {},
     "output_type": "execute_result"
    }
   ],
   "source": [
    "4//3 #example of floor operator"
   ]
  },
  {
   "cell_type": "code",
   "execution_count": 3,
   "id": "928f424e-1ea8-4074-b9ff-8c39c10afde6",
   "metadata": {},
   "outputs": [
    {
     "data": {
      "text/plain": [
       "True"
      ]
     },
     "execution_count": 3,
     "metadata": {},
     "output_type": "execute_result"
    }
   ],
   "source": [
    "2==2  #example of comparison operator"
   ]
  },
  {
   "cell_type": "code",
   "execution_count": 4,
   "id": "68f78be4-5523-4e60-9437-82d08200acbf",
   "metadata": {},
   "outputs": [
    {
     "data": {
      "text/plain": [
       "True"
      ]
     },
     "execution_count": 4,
     "metadata": {},
     "output_type": "execute_result"
    }
   ],
   "source": [
    "True and True  #example of logical operator"
   ]
  },
  {
   "cell_type": "code",
   "execution_count": 5,
   "id": "016e2cd9-30b1-444f-a480-cbfcacac9a42",
   "metadata": {},
   "outputs": [
    {
     "name": "stdout",
     "output_type": "stream",
     "text": [
      "False\n"
     ]
    }
   ],
   "source": [
    "a=True\n",
    "print(not a)  #example of not operator"
   ]
  },
  {
   "cell_type": "code",
   "execution_count": 7,
   "id": "b6230679-4273-4a35-8149-fe7ef5fb5a20",
   "metadata": {},
   "outputs": [
    {
     "data": {
      "text/plain": [
       "12"
      ]
     },
     "execution_count": 7,
     "metadata": {},
     "output_type": "execute_result"
    }
   ],
   "source": [
    "num=12   #example of assignment operator\n",
    "num"
   ]
  },
  {
   "cell_type": "code",
   "execution_count": 8,
   "id": "edd793b2-68b8-49ef-843b-00674eabb1ec",
   "metadata": {},
   "outputs": [
    {
     "data": {
      "text/plain": [
       "True"
      ]
     },
     "execution_count": 8,
     "metadata": {},
     "output_type": "execute_result"
    }
   ],
   "source": [
    "name=\"Esara\"  #example of membership operator\n",
    "\"s\" in name"
   ]
  },
  {
   "cell_type": "code",
   "execution_count": 10,
   "id": "04412bf6-71cd-4a26-8b48-c0ca7a59cb79",
   "metadata": {},
   "outputs": [
    {
     "data": {
      "text/plain": [
       "'0b110'"
      ]
     },
     "execution_count": 10,
     "metadata": {},
     "output_type": "execute_result"
    }
   ],
   "source": [
    "bin(6)  #bitwise operator"
   ]
  },
  {
   "cell_type": "code",
   "execution_count": 12,
   "id": "4ee7684a-21af-428d-bf84-0329faf1f84a",
   "metadata": {},
   "outputs": [
    {
     "data": {
      "text/plain": [
       "False"
      ]
     },
     "execution_count": 12,
     "metadata": {},
     "output_type": "execute_result"
    }
   ],
   "source": [
    "a=2   \n",
    "b=3\n",
    "a is b    #example of identity operator"
   ]
  },
  {
   "cell_type": "raw",
   "id": "6135b070-7475-47f2-8f21-ce10cd1f9c09",
   "metadata": {},
   "source": [
    "Q5. Explain the concept of type casting in Python with examples.\n",
    "Ans: -The concept of type casting in python means the process of changing the data type of a value or object."
   ]
  },
  {
   "cell_type": "code",
   "execution_count": 14,
   "id": "ba62b104-a7b7-4413-8947-230036c1a504",
   "metadata": {},
   "outputs": [
    {
     "data": {
      "text/plain": [
       "5"
      ]
     },
     "execution_count": 14,
     "metadata": {},
     "output_type": "execute_result"
    }
   ],
   "source": [
    "a=\"3\"\n",
    "b=2\n",
    "int(a)+b  #type casting"
   ]
  },
  {
   "cell_type": "raw",
   "id": "bc60aefa-1cc4-47b3-ba24-f5d9d058f5be",
   "metadata": {},
   "source": [
    "Q6. How do conditional statements work in Python? Illustrate with examples.\n",
    "Ans: -Conditional statement helps you to code decisions based on\n",
    "some predefined conditions."
   ]
  },
  {
   "cell_type": "code",
   "execution_count": 16,
   "id": "885c9571-01c9-4163-84ba-88dbd59a0fa8",
   "metadata": {},
   "outputs": [
    {
     "name": "stdout",
     "output_type": "stream",
     "text": [
      "It is a sunny day\n"
     ]
    }
   ],
   "source": [
    "weather=\"Sunny\"\n",
    "if weather==\"Sunny\":  #conditional statement\n",
    "    print(\"It is a sunny day\")"
   ]
  },
  {
   "cell_type": "raw",
   "id": "575da77b-380a-40a9-94cd-908c0176d7d3",
   "metadata": {},
   "source": [
    "Q7. Describe the different types of loops in Python and their use cases with examples.\n",
    "Ans: - The different types of loops are:\n",
    "1.While Loop: repeatedly executed a block of code until a condition is true.\n",
    "2.For Loop: iterate over a sequence of elements."
   ]
  },
  {
   "cell_type": "code",
   "execution_count": 3,
   "id": "d59dd63a-6f0d-4446-a0c6-b4d686f8edd4",
   "metadata": {},
   "outputs": [
    {
     "name": "stdout",
     "output_type": "stream",
     "text": [
      "1\n",
      "2\n",
      "3\n",
      "4\n",
      "5\n",
      "6\n",
      "7\n",
      "8\n",
      "9\n"
     ]
    }
   ],
   "source": [
    "n=10\n",
    "i=1\n",
    "while i<n:     #while loop\n",
    "    print(i)\n",
    "    i=i+1"
   ]
  },
  {
   "cell_type": "code",
   "execution_count": 5,
   "id": "a52bf2f8-3ed7-4ff7-b387-5f9325bdf104",
   "metadata": {},
   "outputs": [
    {
     "name": "stdout",
     "output_type": "stream",
     "text": [
      "D\n",
      "a\n",
      "t\n",
      "a\n",
      " \n",
      "A\n",
      "n\n",
      "a\n",
      "l\n",
      "y\n",
      "s\n",
      "i\n",
      "s\n"
     ]
    }
   ],
   "source": [
    "i=\"Data Analysis\"\n",
    "for i in \"Data Analysis\":  #for loop\n",
    "    print(i)"
   ]
  },
  {
   "cell_type": "code",
   "execution_count": null,
   "id": "e4a655dc-f38d-4059-a11a-3a8c9fdcd159",
   "metadata": {},
   "outputs": [],
   "source": []
  }
 ],
 "metadata": {
  "kernelspec": {
   "display_name": "Python 3 (ipykernel)",
   "language": "python",
   "name": "python3"
  },
  "language_info": {
   "codemirror_mode": {
    "name": "ipython",
    "version": 3
   },
   "file_extension": ".py",
   "mimetype": "text/x-python",
   "name": "python",
   "nbconvert_exporter": "python",
   "pygments_lexer": "ipython3",
   "version": "3.10.8"
  }
 },
 "nbformat": 4,
 "nbformat_minor": 5
}
